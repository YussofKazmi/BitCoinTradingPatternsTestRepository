{
 "cells": [
  {
   "cell_type": "code",
   "execution_count": 1,
   "metadata": {},
   "outputs": [],
   "source": [
    "#https://archive.ics.uci.edu/ml/datasets/BitcoinHeistRansomwareAddressDataset\n",
    "# Data Set\n",
    "import pandas as pd\n",
    "import matplotlib.pyplot as plt\n",
    "import numpy as np\n",
    "from sklearn.model_selection import train_test_split\n",
    "from sklearn.preprocessing import StandardScaler\n",
    "from sklearn.ensemble import RandomForestClassifier\n",
    "from sklearn.neighbors import KNeighborsClassifier\n",
    "from sklearn.metrics import classification_report, confusion_matrix\n",
    "from sklearn.metrics import accuracy_score\n",
    "from sklearn.linear_model import LogisticRegression\n",
    "from sklearn.tree import DecisionTreeClassifier\n",
    "from sklearn.svm import LinearSVC\n",
    "from sklearn.metrics import plot_confusion_matrix"
   ]
  },
  {
   "cell_type": "code",
   "execution_count": 2,
   "metadata": {},
   "outputs": [
    {
     "data": {
      "text/plain": [
       "(2916697, 10)"
      ]
     },
     "execution_count": 2,
     "metadata": {},
     "output_type": "execute_result"
    }
   ],
   "source": [
    "df = pd.read_csv(\"BitcoinHeistData.csv\")\n",
    "\n",
    "#randomizing rows within the numpy arrays of the data frame\n",
    "df = df.sample(frac=1)\n",
    "df.shape"
   ]
  },
  {
   "cell_type": "code",
   "execution_count": 3,
   "metadata": {},
   "outputs": [
    {
     "data": {
      "text/html": [
       "<div>\n",
       "<style scoped>\n",
       "    .dataframe tbody tr th:only-of-type {\n",
       "        vertical-align: middle;\n",
       "    }\n",
       "\n",
       "    .dataframe tbody tr th {\n",
       "        vertical-align: top;\n",
       "    }\n",
       "\n",
       "    .dataframe thead th {\n",
       "        text-align: right;\n",
       "    }\n",
       "</style>\n",
       "<table border=\"1\" class=\"dataframe\">\n",
       "  <thead>\n",
       "    <tr style=\"text-align: right;\">\n",
       "      <th></th>\n",
       "      <th>year</th>\n",
       "      <th>day</th>\n",
       "      <th>length</th>\n",
       "      <th>weight</th>\n",
       "      <th>count</th>\n",
       "      <th>looped</th>\n",
       "      <th>neighbors</th>\n",
       "      <th>income</th>\n",
       "    </tr>\n",
       "  </thead>\n",
       "  <tbody>\n",
       "    <tr>\n",
       "      <th>2696689</th>\n",
       "      <td>2018</td>\n",
       "      <td>110</td>\n",
       "      <td>0</td>\n",
       "      <td>0.833333</td>\n",
       "      <td>2</td>\n",
       "      <td>0</td>\n",
       "      <td>4</td>\n",
       "      <td>1.346738e+08</td>\n",
       "    </tr>\n",
       "    <tr>\n",
       "      <th>378216</th>\n",
       "      <td>2011</td>\n",
       "      <td>347</td>\n",
       "      <td>2</td>\n",
       "      <td>0.250000</td>\n",
       "      <td>1</td>\n",
       "      <td>0</td>\n",
       "      <td>2</td>\n",
       "      <td>3.485076e+08</td>\n",
       "    </tr>\n",
       "    <tr>\n",
       "      <th>1028708</th>\n",
       "      <td>2013</td>\n",
       "      <td>268</td>\n",
       "      <td>2</td>\n",
       "      <td>0.250000</td>\n",
       "      <td>1</td>\n",
       "      <td>0</td>\n",
       "      <td>1</td>\n",
       "      <td>2.000000e+08</td>\n",
       "    </tr>\n",
       "    <tr>\n",
       "      <th>1041914</th>\n",
       "      <td>2013</td>\n",
       "      <td>281</td>\n",
       "      <td>0</td>\n",
       "      <td>0.500000</td>\n",
       "      <td>1</td>\n",
       "      <td>0</td>\n",
       "      <td>1</td>\n",
       "      <td>1.000000e+09</td>\n",
       "    </tr>\n",
       "    <tr>\n",
       "      <th>67815</th>\n",
       "      <td>2011</td>\n",
       "      <td>36</td>\n",
       "      <td>0</td>\n",
       "      <td>1.000000</td>\n",
       "      <td>1</td>\n",
       "      <td>0</td>\n",
       "      <td>1</td>\n",
       "      <td>2.470000e+08</td>\n",
       "    </tr>\n",
       "  </tbody>\n",
       "</table>\n",
       "</div>"
      ],
      "text/plain": [
       "         year  day  length    weight  count  looped  neighbors        income\n",
       "2696689  2018  110       0  0.833333      2       0          4  1.346738e+08\n",
       "378216   2011  347       2  0.250000      1       0          2  3.485076e+08\n",
       "1028708  2013  268       2  0.250000      1       0          1  2.000000e+08\n",
       "1041914  2013  281       0  0.500000      1       0          1  1.000000e+09\n",
       "67815    2011   36       0  1.000000      1       0          1  2.470000e+08"
      ]
     },
     "execution_count": 3,
     "metadata": {},
     "output_type": "execute_result"
    }
   ],
   "source": [
    "#Isolate features dataframe\n",
    "#year | day | length | weight | count | looped | neighbors | income | label\n",
    "X = df.iloc[:,1:-1]\n",
    "X = X.sample(frac=1)\n",
    "X.head()"
   ]
  },
  {
   "cell_type": "code",
   "execution_count": 4,
   "metadata": {},
   "outputs": [
    {
     "data": {
      "text/plain": [
       "2514117    white\n",
       "146238     white\n",
       "1636853    white\n",
       "944730     white\n",
       "343882     white\n",
       "Name: label, dtype: object"
      ]
     },
     "execution_count": 4,
     "metadata": {},
     "output_type": "execute_result"
    }
   ],
   "source": [
    "# Isolate our feature label to the y axis, \"Name of Bitcoin Ransomware\"\n",
    "y = df.iloc[:, -1]\n",
    "y = y.sample(frac = 1)\n",
    "y.head()"
   ]
  },
  {
   "cell_type": "code",
   "execution_count": 5,
   "metadata": {},
   "outputs": [],
   "source": [
    "X_train, X_test, y_train, y_test = train_test_split(X, y, test_size=0.60)"
   ]
  },
  {
   "cell_type": "code",
   "execution_count": 6,
   "metadata": {},
   "outputs": [],
   "source": [
    "#Scaling the data so it is nomralized, this will help the models train w and predict the data even faster and more efficiently\n",
    "sc = StandardScaler()\n",
    "X_train = sc.fit_transform(X_train)\n",
    "X_test = sc.transform(X_test)"
   ]
  },
  {
   "cell_type": "markdown",
   "metadata": {},
   "source": [
    "# Random Forest Classifier---------------------------------------------------\n",
    "#### 1.) The Random Forest Classifier Model is Instantiated\n",
    "#### 2.) Model parameter is tuned with an estimator of n = 35 for 35 trees in the forest\n",
    "#### 3.) Model is fit with already standardized trianing data () (Mean Centering, Std of 1)"
   ]
  },
  {
   "cell_type": "code",
   "execution_count": 9,
   "metadata": {},
   "outputs": [],
   "source": [
    "#### Random Forest Classifier\n",
    "\n",
    "classifier = RandomForestClassifier(n_estimators = 35)\n"
   ]
  },
  {
   "cell_type": "markdown",
   "metadata": {},
   "source": []
  },
  {
   "cell_type": "code",
   "execution_count": 10,
   "metadata": {},
   "outputs": [
    {
     "data": {
      "text/plain": [
       "RandomForestClassifier(bootstrap=True, ccp_alpha=0.0, class_weight=None,\n",
       "                       criterion='gini', max_depth=None, max_features='auto',\n",
       "                       max_leaf_nodes=None, max_samples=None,\n",
       "                       min_impurity_decrease=0.0, min_impurity_split=None,\n",
       "                       min_samples_leaf=1, min_samples_split=2,\n",
       "                       min_weight_fraction_leaf=0.0, n_estimators=35,\n",
       "                       n_jobs=None, oob_score=False, random_state=None,\n",
       "                       verbose=0, warm_start=False)"
      ]
     },
     "execution_count": 10,
     "metadata": {},
     "output_type": "execute_result"
    }
   ],
   "source": [
    "#### Fitting Clasifier Random Forest Model with Standardized Dataset\n",
    "classifier.fit(X_train, y_train)\n"
   ]
  },
  {
   "cell_type": "code",
   "execution_count": 11,
   "metadata": {},
   "outputs": [],
   "source": [
    "### Predictors for MOdel based of off 70% test Case\n",
    "y_pred = classifier.predict(X_test)"
   ]
  },
  {
   "cell_type": "markdown",
   "metadata": {},
   "source": [
    "### Classification Report Random Forest"
   ]
  },
  {
   "cell_type": "code",
   "execution_count": 12,
   "metadata": {},
   "outputs": [
    {
     "name": "stderr",
     "output_type": "stream",
     "text": [
      "C:\\Users\\Yuff Daddy\\anaconda3\\lib\\site-packages\\sklearn\\metrics\\_classification.py:1272: UndefinedMetricWarning: Precision and F-score are ill-defined and being set to 0.0 in labels with no predicted samples. Use `zero_division` parameter to control this behavior.\n",
      "  _warn_prf(average, modifier, msg_start, len(result))\n"
     ]
    },
    {
     "name": "stdout",
     "output_type": "stream",
     "text": [
      "                             precision    recall  f1-score   support\n",
      "\n",
      "                montrealAPT       0.00      0.00      0.00         8\n",
      "      montrealComradeCircle       0.00      0.00      0.00         1\n",
      "       montrealCryptConsole       0.00      0.00      0.00         5\n",
      "           montrealCryptXXX       0.00      0.00      0.00      1440\n",
      "       montrealCryptoLocker       0.00      0.00      0.00      5525\n",
      "montrealCryptoTorLocker2015       0.00      0.00      0.00        34\n",
      "          montrealDMALocker       0.00      0.00      0.00       155\n",
      "        montrealDMALockerv3       0.00      0.00      0.00       207\n",
      "               montrealEDA2       0.00      0.00      0.00         1\n",
      "             montrealFlyper       0.00      0.00      0.00         8\n",
      "              montrealGlobe       0.00      0.00      0.00        22\n",
      "      montrealGlobeImposter       0.00      0.00      0.00        30\n",
      "            montrealGlobev3       0.00      0.00      0.00        22\n",
      "             montrealJigSaw       0.00      0.00      0.00         3\n",
      "          montrealNoobCrypt       0.00      0.00      0.00       285\n",
      "               montrealRazy       0.00      0.00      0.00         7\n",
      "                montrealSam       0.00      0.00      0.00         1\n",
      "             montrealSamSam       0.00      0.00      0.00        39\n",
      "        montrealVenusLocker       0.00      0.00      0.00         5\n",
      "           montrealWannaCry       0.00      0.00      0.00        14\n",
      "        montrealXLockerv5.0       0.00      0.00      0.00         3\n",
      "          montrealXTPLocker       0.00      0.00      0.00         8\n",
      "            paduaCryptoWall       0.00      0.00      0.00      7467\n",
      "                paduaJigsaw       0.00      0.00      0.00         1\n",
      "              paduaKeRanger       0.00      0.00      0.00         8\n",
      "            princetonCerber       0.00      0.00      0.00      5527\n",
      "             princetonLocky       0.00      0.00      0.00      3961\n",
      "                      white       0.99      1.00      0.99   1725232\n",
      "\n",
      "                   accuracy                           0.99   1750019\n",
      "                  macro avg       0.04      0.04      0.04   1750019\n",
      "               weighted avg       0.97      0.99      0.98   1750019\n",
      "\n"
     ]
    }
   ],
   "source": [
    "print(classification_report(y_test, y_pred))"
   ]
  },
  {
   "cell_type": "markdown",
   "metadata": {},
   "source": [
    "### Confusion Matrix"
   ]
  },
  {
   "cell_type": "code",
   "execution_count": 13,
   "metadata": {},
   "outputs": [],
   "source": [
    "#from pandas_ml import ConfusionMatrix\n",
    "\n",
    "#confusion_m = ConfusionMatrix(y_test, y_predict)\n",
    "#plot_confusion_matrix(classifier, X_test, y_test, normalize = 'true')\n",
    "#plt.show()\n",
    "#print(confusion_matrix(y_test, y_pred))"
   ]
  },
  {
   "cell_type": "markdown",
   "metadata": {},
   "source": [
    "# Logistic Regression-----------------------------------------------------------\n"
   ]
  },
  {
   "cell_type": "markdown",
   "metadata": {},
   "source": [
    "#### 1.) The Logistic regression Model is Instantiated and tuned with an optimization algorithm L-BFGS (Limted Memory Broyden Fletcher Goldfarb Shanno Algorithm)\n"
   ]
  },
  {
   "cell_type": "code",
   "execution_count": 14,
   "metadata": {},
   "outputs": [],
   "source": [
    "LogisticRegressionModel = LogisticRegression(solver='lbfgs', max_iter = 250)"
   ]
  },
  {
   "cell_type": "markdown",
   "metadata": {},
   "source": [
    "#### 2.) Model parameter is trained with with already standardized trianing data\n",
    "#### (Mean Centering, Mean = 0, Std of 1)\n"
   ]
  },
  {
   "cell_type": "code",
   "execution_count": 15,
   "metadata": {},
   "outputs": [
    {
     "data": {
      "text/plain": [
       "LogisticRegression(C=1.0, class_weight=None, dual=False, fit_intercept=True,\n",
       "                   intercept_scaling=1, l1_ratio=None, max_iter=250,\n",
       "                   multi_class='auto', n_jobs=None, penalty='l2',\n",
       "                   random_state=None, solver='lbfgs', tol=0.0001, verbose=0,\n",
       "                   warm_start=False)"
      ]
     },
     "execution_count": 15,
     "metadata": {},
     "output_type": "execute_result"
    }
   ],
   "source": [
    "LogisticRegressionModel.fit(X_train, y_train)"
   ]
  },
  {
   "cell_type": "markdown",
   "metadata": {},
   "source": [
    "#### 3.) Model Prediction  "
   ]
  },
  {
   "cell_type": "code",
   "execution_count": 16,
   "metadata": {},
   "outputs": [],
   "source": [
    "yPredictors = LogisticRegressionModel.predict(X_test)"
   ]
  },
  {
   "cell_type": "markdown",
   "metadata": {},
   "source": [
    "#### Accuracy Score"
   ]
  },
  {
   "cell_type": "code",
   "execution_count": 17,
   "metadata": {},
   "outputs": [
    {
     "name": "stdout",
     "output_type": "stream",
     "text": [
      "Accuracy Score:  0.9858338680894322\n"
     ]
    }
   ],
   "source": [
    "print(\"Accuracy Score: \", accuracy_score(y_test, yPredictors) )"
   ]
  },
  {
   "cell_type": "markdown",
   "metadata": {},
   "source": [
    "#### Classification Report"
   ]
  },
  {
   "cell_type": "code",
   "execution_count": 18,
   "metadata": {},
   "outputs": [
    {
     "name": "stderr",
     "output_type": "stream",
     "text": [
      "C:\\Users\\Yuff Daddy\\anaconda3\\lib\\site-packages\\sklearn\\metrics\\_classification.py:1272: UndefinedMetricWarning: Precision and F-score are ill-defined and being set to 0.0 in labels with no predicted samples. Use `zero_division` parameter to control this behavior.\n",
      "  _warn_prf(average, modifier, msg_start, len(result))\n"
     ]
    },
    {
     "name": "stdout",
     "output_type": "stream",
     "text": [
      "                             precision    recall  f1-score   support\n",
      "\n",
      "                montrealAPT       0.00      0.00      0.00         8\n",
      "      montrealComradeCircle       0.00      0.00      0.00         1\n",
      "       montrealCryptConsole       0.00      0.00      0.00         5\n",
      "           montrealCryptXXX       0.00      0.00      0.00      1440\n",
      "       montrealCryptoLocker       0.00      0.00      0.00      5525\n",
      "montrealCryptoTorLocker2015       0.00      0.00      0.00        34\n",
      "          montrealDMALocker       0.00      0.00      0.00       155\n",
      "        montrealDMALockerv3       0.00      0.00      0.00       207\n",
      "               montrealEDA2       0.00      0.00      0.00         1\n",
      "             montrealFlyper       0.00      0.00      0.00         8\n",
      "              montrealGlobe       0.00      0.00      0.00        22\n",
      "      montrealGlobeImposter       0.00      0.00      0.00        30\n",
      "            montrealGlobev3       0.00      0.00      0.00        22\n",
      "             montrealJigSaw       0.00      0.00      0.00         3\n",
      "          montrealNoobCrypt       0.00      0.00      0.00       285\n",
      "               montrealRazy       0.00      0.00      0.00         7\n",
      "                montrealSam       0.00      0.00      0.00         1\n",
      "             montrealSamSam       0.00      0.00      0.00        39\n",
      "        montrealVenusLocker       0.00      0.00      0.00         5\n",
      "           montrealWannaCry       0.00      0.00      0.00        14\n",
      "        montrealXLockerv5.0       0.00      0.00      0.00         3\n",
      "          montrealXTPLocker       0.00      0.00      0.00         8\n",
      "            paduaCryptoWall       0.00      0.00      0.00      7467\n",
      "                paduaJigsaw       0.00      0.00      0.00         1\n",
      "              paduaKeRanger       0.00      0.00      0.00         8\n",
      "            princetonCerber       0.00      0.00      0.00      5527\n",
      "             princetonLocky       0.00      0.00      0.00      3961\n",
      "                      white       0.99      1.00      0.99   1725232\n",
      "\n",
      "                   accuracy                           0.99   1750019\n",
      "                  macro avg       0.04      0.04      0.04   1750019\n",
      "               weighted avg       0.97      0.99      0.98   1750019\n",
      "\n"
     ]
    }
   ],
   "source": [
    "print(classification_report(y_test,yPredictors))"
   ]
  },
  {
   "cell_type": "markdown",
   "metadata": {},
   "source": [
    "# Decision Trees-----------------------------------------------------------"
   ]
  },
  {
   "cell_type": "markdown",
   "metadata": {},
   "source": [
    "#### Decision Tree Modifier Instantiated"
   ]
  },
  {
   "cell_type": "code",
   "execution_count": 19,
   "metadata": {},
   "outputs": [],
   "source": [
    "classifier =  DecisionTreeClassifier(criterion='entropy', max_depth=1000)"
   ]
  },
  {
   "cell_type": "markdown",
   "metadata": {},
   "source": [
    "#### Decision Tree Model is fitted with training data"
   ]
  },
  {
   "cell_type": "code",
   "execution_count": 20,
   "metadata": {},
   "outputs": [
    {
     "data": {
      "text/plain": [
       "DecisionTreeClassifier(ccp_alpha=0.0, class_weight=None, criterion='entropy',\n",
       "                       max_depth=1000, max_features=None, max_leaf_nodes=None,\n",
       "                       min_impurity_decrease=0.0, min_impurity_split=None,\n",
       "                       min_samples_leaf=1, min_samples_split=2,\n",
       "                       min_weight_fraction_leaf=0.0, presort='deprecated',\n",
       "                       random_state=None, splitter='best')"
      ]
     },
     "execution_count": 20,
     "metadata": {},
     "output_type": "execute_result"
    }
   ],
   "source": [
    "classifier.fit(X_train, y_train)"
   ]
  },
  {
   "cell_type": "markdown",
   "metadata": {},
   "source": [
    "#### Model is then tested with X_test To Predict Feature"
   ]
  },
  {
   "cell_type": "code",
   "execution_count": 21,
   "metadata": {},
   "outputs": [],
   "source": [
    "y_pred = classifier.predict(X_test)"
   ]
  },
  {
   "cell_type": "markdown",
   "metadata": {},
   "source": [
    "#### Classification Report"
   ]
  },
  {
   "cell_type": "code",
   "execution_count": 22,
   "metadata": {},
   "outputs": [
    {
     "name": "stderr",
     "output_type": "stream",
     "text": [
      "C:\\Users\\Yuff Daddy\\anaconda3\\lib\\site-packages\\sklearn\\metrics\\_classification.py:1272: UndefinedMetricWarning: Precision and F-score are ill-defined and being set to 0.0 in labels with no predicted samples. Use `zero_division` parameter to control this behavior.\n",
      "  _warn_prf(average, modifier, msg_start, len(result))\n",
      "C:\\Users\\Yuff Daddy\\anaconda3\\lib\\site-packages\\sklearn\\metrics\\_classification.py:1272: UndefinedMetricWarning: Recall and F-score are ill-defined and being set to 0.0 in labels with no true samples. Use `zero_division` parameter to control this behavior.\n",
      "  _warn_prf(average, modifier, msg_start, len(result))\n"
     ]
    },
    {
     "name": "stdout",
     "output_type": "stream",
     "text": [
      "                             precision    recall  f1-score   support\n",
      "\n",
      "                montrealAPT       0.00      0.00      0.00         8\n",
      "      montrealComradeCircle       0.00      0.00      0.00         1\n",
      "       montrealCryptConsole       0.00      0.00      0.00         5\n",
      "           montrealCryptXXX       0.00      0.00      0.00      1440\n",
      "       montrealCryptoLocker       0.00      0.01      0.00      5525\n",
      "montrealCryptoTorLocker2015       0.00      0.00      0.00        34\n",
      "          montrealDMALocker       0.00      0.00      0.00       155\n",
      "        montrealDMALockerv3       0.00      0.00      0.00       207\n",
      "               montrealEDA2       0.00      0.00      0.00         1\n",
      "             montrealFlyper       0.00      0.00      0.00         8\n",
      "              montrealGlobe       0.00      0.00      0.00        22\n",
      "      montrealGlobeImposter       0.00      0.00      0.00        30\n",
      "            montrealGlobev3       0.00      0.00      0.00        22\n",
      "             montrealJigSaw       0.00      0.00      0.00         3\n",
      "          montrealNoobCrypt       0.00      0.00      0.00       285\n",
      "               montrealRazy       0.00      0.00      0.00         7\n",
      "                montrealSam       0.00      0.00      0.00         1\n",
      "             montrealSamSam       0.00      0.00      0.00        39\n",
      "        montrealVenusLocker       0.00      0.00      0.00         5\n",
      "           montrealWannaCry       0.00      0.00      0.00        14\n",
      "            montrealXLocker       0.00      0.00      0.00         0\n",
      "        montrealXLockerv5.0       0.00      0.00      0.00         3\n",
      "          montrealXTPLocker       0.00      0.00      0.00         8\n",
      "            paduaCryptoWall       0.00      0.01      0.01      7467\n",
      "                paduaJigsaw       0.00      0.00      0.00         1\n",
      "              paduaKeRanger       0.00      0.00      0.00         8\n",
      "            princetonCerber       0.00      0.00      0.00      5527\n",
      "             princetonLocky       0.00      0.00      0.00      3961\n",
      "                      white       0.99      0.98      0.98   1725232\n",
      "\n",
      "                   accuracy                           0.97   1750019\n",
      "                  macro avg       0.03      0.03      0.03   1750019\n",
      "               weighted avg       0.97      0.97      0.97   1750019\n",
      "\n"
     ]
    }
   ],
   "source": [
    "print(classification_report(y_test, y_pred))"
   ]
  },
  {
   "cell_type": "markdown",
   "metadata": {},
   "source": [
    "#### Accuracy Score"
   ]
  },
  {
   "cell_type": "code",
   "execution_count": 23,
   "metadata": {},
   "outputs": [
    {
     "name": "stdout",
     "output_type": "stream",
     "text": [
      "Accuracy Score:\t 0.968456342473996\n"
     ]
    }
   ],
   "source": [
    "print(\"Accuracy Score:\\t\",accuracy_score(y_test, y_pred))"
   ]
  },
  {
   "cell_type": "markdown",
   "metadata": {},
   "source": [
    "# Support Vector Machines----------------------------------------------------"
   ]
  },
  {
   "cell_type": "markdown",
   "metadata": {},
   "source": [
    "#### 1.) Instantiation Of Support Vector Machine Model\n",
    "#### Parameter tuned to deal with a linear kernel for simplicity's sake"
   ]
  },
  {
   "cell_type": "code",
   "execution_count": 9,
   "metadata": {},
   "outputs": [],
   "source": [
    "svmClassifier = LinearSVC()"
   ]
  },
  {
   "cell_type": "markdown",
   "metadata": {},
   "source": [
    "#### 2.) Model is fitted with data from our training set"
   ]
  },
  {
   "cell_type": "code",
   "execution_count": 10,
   "metadata": {},
   "outputs": [
    {
     "name": "stdout",
     "output_type": "stream",
     "text": [
      "5\n"
     ]
    }
   ],
   "source": [
    "print(5)"
   ]
  },
  {
   "cell_type": "code",
   "execution_count": 11,
   "metadata": {},
   "outputs": [
    {
     "name": "stderr",
     "output_type": "stream",
     "text": [
      "C:\\Users\\Yuff Daddy\\anaconda3\\lib\\site-packages\\sklearn\\svm\\_base.py:947: ConvergenceWarning: Liblinear failed to converge, increase the number of iterations.\n",
      "  \"the number of iterations.\", ConvergenceWarning)\n"
     ]
    },
    {
     "data": {
      "text/plain": [
       "LinearSVC(C=1.0, class_weight=None, dual=True, fit_intercept=True,\n",
       "          intercept_scaling=1, loss='squared_hinge', max_iter=1000,\n",
       "          multi_class='ovr', penalty='l2', random_state=None, tol=0.0001,\n",
       "          verbose=0)"
      ]
     },
     "execution_count": 11,
     "metadata": {},
     "output_type": "execute_result"
    }
   ],
   "source": [
    "svmClassifier.fit(X_train, y_train)"
   ]
  },
  {
   "cell_type": "markdown",
   "metadata": {},
   "source": [
    "#### 3.) Model is tested with X_test Data set"
   ]
  },
  {
   "cell_type": "code",
   "execution_count": 12,
   "metadata": {},
   "outputs": [],
   "source": [
    "y_pred = svmClassifier.predict(X_test)"
   ]
  },
  {
   "cell_type": "markdown",
   "metadata": {},
   "source": [
    "#### Classification Report"
   ]
  },
  {
   "cell_type": "code",
   "execution_count": 13,
   "metadata": {
    "scrolled": true
   },
   "outputs": [
    {
     "name": "stderr",
     "output_type": "stream",
     "text": [
      "C:\\Users\\Yuff Daddy\\anaconda3\\lib\\site-packages\\sklearn\\metrics\\_classification.py:1272: UndefinedMetricWarning: Precision and F-score are ill-defined and being set to 0.0 in labels with no predicted samples. Use `zero_division` parameter to control this behavior.\n",
      "  _warn_prf(average, modifier, msg_start, len(result))\n"
     ]
    },
    {
     "name": "stdout",
     "output_type": "stream",
     "text": [
      "                             precision    recall  f1-score   support\n",
      "\n",
      "                montrealAPT       0.00      0.00      0.00         6\n",
      "       montrealCryptConsole       0.00      0.00      0.00         3\n",
      "           montrealCryptXXX       0.00      0.00      0.00      1465\n",
      "       montrealCryptoLocker       0.00      0.00      0.00      5604\n",
      "montrealCryptoTorLocker2015       0.00      0.00      0.00        30\n",
      "          montrealDMALocker       0.00      0.00      0.00       146\n",
      "        montrealDMALockerv3       0.00      0.00      0.00       204\n",
      "               montrealEDA2       0.00      0.00      0.00         4\n",
      "             montrealFlyper       0.00      0.00      0.00         3\n",
      "              montrealGlobe       0.00      0.00      0.00        20\n",
      "      montrealGlobeImposter       0.00      0.00      0.00        26\n",
      "            montrealGlobev3       0.00      0.00      0.00        23\n",
      "             montrealJigSaw       0.00      0.00      0.00         2\n",
      "          montrealNoobCrypt       0.00      0.00      0.00       292\n",
      "               montrealRazy       0.00      0.00      0.00         7\n",
      "             montrealSamSam       0.00      0.00      0.00        39\n",
      "        montrealVenusLocker       0.00      0.00      0.00         3\n",
      "           montrealWannaCry       0.00      0.00      0.00        17\n",
      "            montrealXLocker       0.00      0.00      0.00         1\n",
      "        montrealXLockerv5.0       0.00      0.00      0.00         5\n",
      "          montrealXTPLocker       0.00      0.00      0.00         4\n",
      "            paduaCryptoWall       0.00      0.00      0.00      7421\n",
      "                paduaJigsaw       0.00      0.00      0.00         1\n",
      "              paduaKeRanger       0.00      0.00      0.00         3\n",
      "            princetonCerber       0.00      0.00      0.00      5544\n",
      "             princetonLocky       0.00      0.00      0.00      3987\n",
      "                      white       0.99      1.00      0.99   1725159\n",
      "\n",
      "                   accuracy                           0.99   1750019\n",
      "                  macro avg       0.04      0.04      0.04   1750019\n",
      "               weighted avg       0.97      0.99      0.98   1750019\n",
      "\n"
     ]
    }
   ],
   "source": [
    "print(classification_report(y_test, y_pred))\n"
   ]
  },
  {
   "cell_type": "markdown",
   "metadata": {},
   "source": [
    "#### Accuracy Score"
   ]
  },
  {
   "cell_type": "code",
   "execution_count": 14,
   "metadata": {},
   "outputs": [
    {
     "name": "stdout",
     "output_type": "stream",
     "text": [
      "Accuracy Score\t: 0.9857944399460806\n"
     ]
    }
   ],
   "source": [
    "print(\"Accuracy Score\\t:\", accuracy_score(y_test, y_pred))"
   ]
  },
  {
   "cell_type": "markdown",
   "metadata": {},
   "source": [
    "# K Nearest Neighbors----------------------------------------------------------"
   ]
  },
  {
   "cell_type": "markdown",
   "metadata": {},
   "source": [
    "#### 1.) Instantiation Of K Nearest Neighbors Model\n",
    "#### Parameter tuned to deal with a 1about 31 classes of the feature label"
   ]
  },
  {
   "cell_type": "code",
   "execution_count": 15,
   "metadata": {},
   "outputs": [],
   "source": [
    "classifier = KNeighborsClassifier(n_neighbors=31)"
   ]
  },
  {
   "cell_type": "markdown",
   "metadata": {},
   "source": [
    "#### 2.) Fitting of KNN Model with training data"
   ]
  },
  {
   "cell_type": "code",
   "execution_count": 16,
   "metadata": {},
   "outputs": [
    {
     "data": {
      "text/plain": [
       "KNeighborsClassifier(algorithm='auto', leaf_size=30, metric='minkowski',\n",
       "                     metric_params=None, n_jobs=None, n_neighbors=31, p=2,\n",
       "                     weights='uniform')"
      ]
     },
     "execution_count": 16,
     "metadata": {},
     "output_type": "execute_result"
    }
   ],
   "source": [
    "classifier.fit(X_train, y_train)"
   ]
  },
  {
   "cell_type": "markdown",
   "metadata": {},
   "source": [
    "#### 3.) Model is tested with X_data set"
   ]
  },
  {
   "cell_type": "code",
   "execution_count": 17,
   "metadata": {},
   "outputs": [],
   "source": [
    "y_pred = classifier.predict(X_test)"
   ]
  },
  {
   "cell_type": "markdown",
   "metadata": {},
   "source": [
    "#### Classification Report"
   ]
  },
  {
   "cell_type": "code",
   "execution_count": 18,
   "metadata": {},
   "outputs": [
    {
     "name": "stderr",
     "output_type": "stream",
     "text": [
      "C:\\Users\\Yuff Daddy\\anaconda3\\lib\\site-packages\\sklearn\\metrics\\_classification.py:1272: UndefinedMetricWarning: Precision and F-score are ill-defined and being set to 0.0 in labels with no predicted samples. Use `zero_division` parameter to control this behavior.\n",
      "  _warn_prf(average, modifier, msg_start, len(result))\n"
     ]
    },
    {
     "name": "stdout",
     "output_type": "stream",
     "text": [
      "                             precision    recall  f1-score   support\n",
      "\n",
      "                montrealAPT       0.00      0.00      0.00         6\n",
      "       montrealCryptConsole       0.00      0.00      0.00         3\n",
      "           montrealCryptXXX       0.00      0.00      0.00      1465\n",
      "       montrealCryptoLocker       0.00      0.00      0.00      5604\n",
      "montrealCryptoTorLocker2015       0.00      0.00      0.00        30\n",
      "          montrealDMALocker       0.00      0.00      0.00       146\n",
      "        montrealDMALockerv3       0.00      0.00      0.00       204\n",
      "               montrealEDA2       0.00      0.00      0.00         4\n",
      "             montrealFlyper       0.00      0.00      0.00         3\n",
      "              montrealGlobe       0.00      0.00      0.00        20\n",
      "      montrealGlobeImposter       0.00      0.00      0.00        26\n",
      "            montrealGlobev3       0.00      0.00      0.00        23\n",
      "             montrealJigSaw       0.00      0.00      0.00         2\n",
      "          montrealNoobCrypt       0.00      0.00      0.00       292\n",
      "               montrealRazy       0.00      0.00      0.00         7\n",
      "             montrealSamSam       0.00      0.00      0.00        39\n",
      "        montrealVenusLocker       0.00      0.00      0.00         3\n",
      "           montrealWannaCry       0.00      0.00      0.00        17\n",
      "            montrealXLocker       0.00      0.00      0.00         1\n",
      "        montrealXLockerv5.0       0.00      0.00      0.00         5\n",
      "          montrealXTPLocker       0.00      0.00      0.00         4\n",
      "            paduaCryptoWall       0.00      0.00      0.00      7421\n",
      "                paduaJigsaw       0.00      0.00      0.00         1\n",
      "              paduaKeRanger       0.00      0.00      0.00         3\n",
      "            princetonCerber       0.00      0.00      0.00      5544\n",
      "             princetonLocky       0.00      0.00      0.00      3987\n",
      "                      white       0.99      1.00      0.99   1725159\n",
      "\n",
      "                   accuracy                           0.99   1750019\n",
      "                  macro avg       0.04      0.04      0.04   1750019\n",
      "               weighted avg       0.97      0.99      0.98   1750019\n",
      "\n"
     ]
    }
   ],
   "source": [
    "print(classification_report(y_test, y_pred))"
   ]
  },
  {
   "cell_type": "markdown",
   "metadata": {},
   "source": [
    "#### Accuracy Score"
   ]
  },
  {
   "cell_type": "code",
   "execution_count": 19,
   "metadata": {},
   "outputs": [
    {
     "name": "stdout",
     "output_type": "stream",
     "text": [
      "Accuracy Score\t: 0.9857944399460806\n"
     ]
    }
   ],
   "source": [
    "print(\"Accuracy Score\\t:\", accuracy_score(y_test, y_pred))"
   ]
  },
  {
   "cell_type": "code",
   "execution_count": null,
   "metadata": {},
   "outputs": [],
   "source": []
  }
 ],
 "metadata": {
  "kernelspec": {
   "display_name": "Python 3",
   "language": "python",
   "name": "python3"
  },
  "language_info": {
   "codemirror_mode": {
    "name": "ipython",
    "version": 3
   },
   "file_extension": ".py",
   "mimetype": "text/x-python",
   "name": "python",
   "nbconvert_exporter": "python",
   "pygments_lexer": "ipython3",
   "version": "3.7.6"
  }
 },
 "nbformat": 4,
 "nbformat_minor": 4
}
